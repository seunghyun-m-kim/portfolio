{
 "cells": [
  {
   "cell_type": "markdown",
   "metadata": {},
   "source": [
    "# NoSQL Data Modeling\n",
    "## Project: Data Modeling with Apache Cassandra\n",
    "\n",
    "This project was completed as part of Udacity's Data Engineering Nanodegree. Data set and prompt provided by [2011–2020 Udacity, Inc.](https://www.udacity.com), used under [CC BY](https://creativecommons.org/licenses/by-nc-nd/3.0/)."
   ]
  },
  {
   "cell_type": "markdown",
   "metadata": {},
   "source": [
    "#### Import Python packages "
   ]
  },
  {
   "cell_type": "code",
   "execution_count": 1,
   "metadata": {},
   "outputs": [],
   "source": [
    "import cassandra\n",
    "import csv"
   ]
  },
  {
   "cell_type": "markdown",
   "metadata": {},
   "source": [
    "#### Creating a Cluster"
   ]
  },
  {
   "cell_type": "markdown",
   "metadata": {},
   "source": [
    "For the following connection and session creation, a locally running Cassandra cluster is required. "
   ]
  },
  {
   "cell_type": "code",
   "execution_count": 2,
   "metadata": {},
   "outputs": [],
   "source": [
    "from cassandra.cluster import Cluster\n",
    "cluster = Cluster()\n",
    "session = cluster.connect()"
   ]
  },
  {
   "cell_type": "markdown",
   "metadata": {},
   "source": [
    "#### Create Keyspace"
   ]
  },
  {
   "cell_type": "code",
   "execution_count": 3,
   "metadata": {},
   "outputs": [
    {
     "data": {
      "text/plain": [
       "<cassandra.cluster.ResultSet at 0x7f908d4e4e80>"
      ]
     },
     "execution_count": 3,
     "metadata": {},
     "output_type": "execute_result"
    }
   ],
   "source": [
    "session.execute(\"\"\"\n",
    "CREATE KEYSPACE IF NOT EXISTS udacity \n",
    "WITH REPLICATION = { 'class' : 'SimpleStrategy', 'replication_factor' : 1 }\n",
    "\"\"\")"
   ]
  },
  {
   "cell_type": "markdown",
   "metadata": {},
   "source": [
    "#### Set Keyspace"
   ]
  },
  {
   "cell_type": "code",
   "execution_count": 4,
   "metadata": {},
   "outputs": [],
   "source": [
    "session.set_keyspace('udacity')"
   ]
  },
  {
   "cell_type": "markdown",
   "metadata": {},
   "source": [
    "## Queries to ask the following three questions of the data:\n",
    "\n",
    "#### 1. Find artist, song title and song's length in the music app history that was heard during  sessionId = 338, and itemInSession  = 4\n",
    "\n",
    "\n",
    "#### 2. Find name of artist, song (sorted by itemInSession) and user (first and last name) for userId = 10, sessionid = 182\n",
    "    \n",
    "\n",
    "#### 3. Find every user name (first and last) in the music app history who listened to the song 'All Hands Against His Own'"
   ]
  },
  {
   "cell_type": "markdown",
   "metadata": {},
   "source": [
    "## Query 1\n",
    "\n",
    "In this query, `sessionId` was the partition key, and `itemInSession` was the clustering column. Using the composite primary key from the two columns, unique play sessions (WHERE conditions) were categorized to find the corresponding `artist`, `song`, and `length` columns.   "
   ]
  },
  {
   "cell_type": "code",
   "execution_count": 5,
   "metadata": {},
   "outputs": [
    {
     "name": "stdout",
     "output_type": "stream",
     "text": [
      "Faithless Music Matters (Mark Knight Dub) 495.30731201171875\n"
     ]
    }
   ],
   "source": [
    "# main query\n",
    "query1 = \"select artist, song, length from song_session WHERE sessionId = 338 AND itemInSession = 4\"\n",
    "\n",
    "# creating the required table \n",
    "file = 'event_datafile_new.csv'\n",
    "with open(file, encoding = 'utf8') as f:\n",
    "    csvreader = csv.reader(f)\n",
    "    next(csvreader)\n",
    "    for line in csvreader:\n",
    "        query = \"CREATE TABLE IF NOT EXISTS song_session\"\n",
    "        query = query + \"(sessionId int, itemInSession int, artist text, song text, length float, PRIMARY KEY (sessionId, itemInSession))\"\n",
    "        session.execute(query)\n",
    "        query = \"INSERT INTO song_session (sessionId, itemInSession, artist, song, length)\"\n",
    "        query = query + \" VALUES (%s, %s, %s, %s, %s)\"\n",
    "        session.execute(query, (int(line[8]), int(line[3]), line[0], line[9], float(line[5])))\n",
    "\n",
    "# executing the query\n",
    "rows = session.execute(query1)\n",
    "for row in rows:\n",
    "    print (row.artist, row.song, row.length)"
   ]
  },
  {
   "cell_type": "markdown",
   "metadata": {},
   "source": [
    "## Query 2\n",
    "\n",
    "In this query, `userId` and `sessionId` comprised the composite partition key, and `itemInSession` was the clustering column. Unique play sessions (WHERE conditions) were categorized and sorted by `itemInSession` to find the corresponding `artist`, `song`, and `user` columns.   "
   ]
  },
  {
   "cell_type": "code",
   "execution_count": 6,
   "metadata": {},
   "outputs": [
    {
     "name": "stdout",
     "output_type": "stream",
     "text": [
      "Down To The Bone Keep On Keepin' On SylvieCruz\n",
      "Three Drives Greece 2000 SylvieCruz\n",
      "Sebastien Tellier Kilometer SylvieCruz\n",
      "Lonnie Gordon Catch You Baby (Steve Pitron & Max Sanna Radio Edit) SylvieCruz\n"
     ]
    }
   ],
   "source": [
    "# main query\n",
    "query2 = \"select artist, song, user from song_user_session WHERE userid = 10 AND sessionid = 182\"\n",
    "\n",
    "# creating the required table \n",
    "file = 'event_datafile_new.csv'\n",
    "with open(file, encoding = 'utf8') as f:\n",
    "    csvreader = csv.reader(f)\n",
    "    next(csvreader)\n",
    "    for line in csvreader:\n",
    "        query = \"CREATE TABLE IF NOT EXISTS song_user_session\"\n",
    "        query = query + \"(userid int, sessionid int, itemInSession int, artist text, song text, user text, PRIMARY KEY ((userid, sessionId), itemInSession))\"\n",
    "        session.execute(query)\n",
    "        query = \"INSERT INTO song_user_session (userid, sessionid, itemInSession, artist, song, user)\"\n",
    "        query = query + \" VALUES (%s, %s, %s, %s, %s, %s)\"\n",
    "        session.execute(query, (int(line[10]), int(line[8]), int(line[3]), line[0], line[9], (line[1] + line[4]))) \n",
    "        \n",
    "# executing the query\n",
    "rows = session.execute(query2)\n",
    "for row in rows:\n",
    "    print (row.artist, row.song, row.user)"
   ]
  },
  {
   "cell_type": "markdown",
   "metadata": {},
   "source": [
    "## Query 3\n",
    "\n",
    "In this query, `song` was the partition key, and `userId` and `user` were the clustering columns. Using the composite primary key from the three columns, unique play sessions (WHERE conditions) were categorized to find the corresponding `user` columns.    "
   ]
  },
  {
   "cell_type": "code",
   "execution_count": 7,
   "metadata": {},
   "outputs": [
    {
     "name": "stdout",
     "output_type": "stream",
     "text": [
      "JacquelineLynch\n",
      "TeganLevine\n",
      "SaraJohnson\n"
     ]
    }
   ],
   "source": [
    "# main query\n",
    "query3 = \"select user from user_song WHERE song = 'All Hands Against His Own'\"\n",
    "# creating the required table \n",
    "file = 'event_datafile_new.csv'\n",
    "with open(file, encoding = 'utf8') as f:\n",
    "    csvreader = csv.reader(f)\n",
    "    next(csvreader) \n",
    "    for line in csvreader:\n",
    "        query = \"CREATE TABLE IF NOT EXISTS user_song\"\n",
    "        query = query + \"(song text, userid int, user text, PRIMARY KEY (song, userid, user))\"\n",
    "        session.execute(query)\n",
    "        query = \"INSERT INTO user_song (song, userid, user)\"\n",
    "        query = query + \" VALUES (%s, %s, %s)\"\n",
    "        session.execute(query, (line[9], int(line[10]), (line[1] + line[4]))) \n",
    "        \n",
    "# executing the query\n",
    "rows = session.execute(query3)\n",
    "for row in rows:\n",
    "    print (row.user)             "
   ]
  },
  {
   "cell_type": "markdown",
   "metadata": {},
   "source": [
    "#### Drop the tables"
   ]
  },
  {
   "cell_type": "code",
   "execution_count": 8,
   "metadata": {},
   "outputs": [
    {
     "data": {
      "text/plain": [
       "<cassandra.cluster.ResultSet at 0x7f908d4d2b38>"
      ]
     },
     "execution_count": 8,
     "metadata": {},
     "output_type": "execute_result"
    }
   ],
   "source": [
    "query = \"drop table song_session\"\n",
    "session.execute(query)\n",
    "\n",
    "query = \"drop table song_user_session\"\n",
    "session.execute(query)\n",
    "\n",
    "query = \"drop table user_song\"\n",
    "session.execute(query)"
   ]
  },
  {
   "cell_type": "markdown",
   "metadata": {},
   "source": [
    "#### Close the session and cluster"
   ]
  },
  {
   "cell_type": "code",
   "execution_count": 9,
   "metadata": {},
   "outputs": [],
   "source": [
    "session.shutdown()\n",
    "cluster.shutdown()"
   ]
  }
 ],
 "metadata": {
  "kernelspec": {
   "display_name": "Python 3",
   "language": "python",
   "name": "python3"
  },
  "language_info": {
   "codemirror_mode": {
    "name": "ipython",
    "version": 3
   },
   "file_extension": ".py",
   "mimetype": "text/x-python",
   "name": "python",
   "nbconvert_exporter": "python",
   "pygments_lexer": "ipython3",
   "version": "3.6.9"
  }
 },
 "nbformat": 4,
 "nbformat_minor": 4
}
